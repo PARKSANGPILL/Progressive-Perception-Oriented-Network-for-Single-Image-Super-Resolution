{
 "cells": [
  {
   "cell_type": "code",
   "execution_count": null,
   "id": "b2ca64c0",
   "metadata": {},
   "outputs": [],
   "source": [
    "import tensorflow as tf"
   ]
  },
  {
   "cell_type": "code",
   "execution_count": null,
   "id": "881f151f",
   "metadata": {},
   "outputs": [],
   "source": [
    "def HHFB(inputs, scale=0.2):\n",
    "    x = tf.keras.layers.Conv2D(filters=64, kernel_size=3, strides=1, padding='same', kernel_initializer='he_normal')(inputs)\n",
    "    x = tf.keras.layers.LeakyReLU(alpha=0.2)(x)\n",
    "    \n",
    "    c1 = tf.keras.layers.Conv2D(filters=32, kernel_size=3, strides=1, padding='same', kernel_initializer='he_normal')(x)\n",
    "    c2 = tf.keras.layers.Conv2D(filters=32, kernel_size=3, strides=1, padding='same', kernel_initializer='he_normal')(x)\n",
    "    c3 = tf.keras.layers.Conv2D(filters=32, kernel_size=3, strides=1, padding='same', kernel_initializer='he_normal')(x)    \n",
    "    c4 = tf.keras.layers.Conv2D(filters=32, kernel_size=3, strides=1, padding='same', kernel_initializer='he_normal')(x)    \n",
    "    c5 = tf.keras.layers.Conv2D(filters=32, kernel_size=3, strides=1, padding='same', kernel_initializer='he_normal')(x)    \n",
    "    c6 = tf.keras.layers.Conv2D(filters=32, kernel_size=3, strides=1, padding='same', kernel_initializer='he_normal')(x)    \n",
    "    c7 = tf.keras.layers.Conv2D(filters=32, kernel_size=3, strides=1, padding='same', kernel_initializer='he_normal')(x)    \n",
    "    c8 = tf.keras.layers.Conv2D(filters=32, kernel_size=3, strides=1, padding='same', kernel_initializer='he_normal')(x)    \n",
    "    \n",
    "    a1 = tf.keras.layers.Add()([c1, c2])\n",
    "    a2 = tf.keras.layers.Add()([a1, c3])\n",
    "    a3 = tf.keras.layers.Add()([a2, c4])\n",
    "    a4 = tf.keras.layers.Add()([a3, c5])\n",
    "    a5 = tf.keras.layers.Add()([a4, c6])\n",
    "    a6 = tf.keras.layers.Add()([a5, c7])\n",
    "    a7 = tf.keras.layers.Add()([a6, c8])\n",
    "    \n",
    "    x = tf.keras.layers.Concatenate(axis=-1)([c1, a1, a2, a3, a4, a5, a6, a7])\n",
    "    x = tf.keras.layers.LeakyReLU(alpha=0.2)(x)\n",
    "    \n",
    "    x = tf.keras.layers.Conv2D(filters=64, kernel_size=1, strides=1, padding='same', kernel_initializer='he_normal')(x)\n",
    "    x = tf.keras.layers.Lambda(lambda t: t * scale)(x)\n",
    "    x = tf.keras.layers.Add()([inputs, x])\n",
    "    return x"
   ]
  },
  {
   "cell_type": "code",
   "execution_count": null,
   "id": "ccc96c25",
   "metadata": {},
   "outputs": [],
   "source": [
    "def CRM(inputs, filters, factor=2):\n",
    "    x = tf.keras.layers.Conv2D(filters=filters*(factor**2), kernel_size=3, padding='same', kernel_initializer='he_normal')(inputs)\n",
    "    x = tf.nn.depth_to_space(x, block_size=2)\n",
    "    x = tf.keras.layers.Conv2D(filters=filters*(factor**2), kernel_size=3, padding='same', kernel_initializer='he_normal')(x)\n",
    "    x = tf.nn.depth_to_space(x, block_size=2)\n",
    "    x = tf.keras.layers.Conv2D(filters=filters, kernel_size=3, strides=1, padding='same', kernel_initializer='he_normal')(x)\n",
    "    x = tf.keras.layers.Conv2D(filters=3, kernel_size=3, strides=1, padding='same', kernel_initializer='he_normal')(x)\n",
    "    \n",
    "    return x"
   ]
  },
  {
   "cell_type": "code",
   "execution_count": null,
   "id": "5c2ec9bd",
   "metadata": {},
   "outputs": [],
   "source": [
    "def RRFB(inputs, scale=0.2):\n",
    "    x = HHFB(inputs)\n",
    "    x = HHFB(x)    \n",
    "    x = HHFB(x)\n",
    "    x = tf.keras.layers.Lambda(lambda t: t * scale)(x)\n",
    "    x = tf.keras.layers.Add()([inputs, x])\n",
    "    return x"
   ]
  },
  {
   "cell_type": "code",
   "execution_count": null,
   "id": "a114fa7c",
   "metadata": {},
   "outputs": [],
   "source": [
    "def RFN():\n",
    "    inputs = tf.keras.layers.Input(shape=(None, None, 3))\n",
    "    x = tf.keras.layers.Rescaling(scale=1.0 / 255)(inputs)\n",
    "    \n",
    "    x = y = tf.keras.layers.Conv2D(filters=64, kernel_size=3, strides=1, padding='same', kernel_initializer='he_normal')(x)\n",
    "    \n",
    "    for _ in range(24):\n",
    "        y = RRFB(inputs=y, scale=0.2)\n",
    "        \n",
    "    y = tf.keras.layers.Conv2D(filters=64, kernel_size=3, strides=1, padding='same', kernel_initializer='he_normal')(y)\n",
    "    x = tf.keras.layers.Add()([x, y])\n",
    "    \n",
    "    x = CRM(inputs=x, filters=64)\n",
    "    \n",
    "    outputs = tf.keras.layers.Rescaling(scale=255)(x)\n",
    "    return tf.keras.Model(inputs=inputs, outputs=outputs)"
   ]
  }
 ],
 "metadata": {
  "kernelspec": {
   "display_name": "Python 3",
   "language": "python",
   "name": "python3"
  },
  "language_info": {
   "codemirror_mode": {
    "name": "ipython",
    "version": 3
   },
   "file_extension": ".py",
   "mimetype": "text/x-python",
   "name": "python",
   "nbconvert_exporter": "python",
   "pygments_lexer": "ipython3",
   "version": "3.8.8"
  }
 },
 "nbformat": 4,
 "nbformat_minor": 5
}
